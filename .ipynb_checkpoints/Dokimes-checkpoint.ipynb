{
 "cells": [
  {
   "cell_type": "code",
   "execution_count": null,
   "id": "766b2350",
   "metadata": {},
   "outputs": [],
   "source": [
    "word_no_spaces = 'ΣΟΦΙΑ'\n",
    "l = "
   ]
  },
  {
   "cell_type": "code",
   "execution_count": null,
   "id": "4f5e0a5d",
   "metadata": {},
   "outputs": [],
   "source": [
    "import itertools as it\n",
    "import random as rn\n",
    "\n",
    "letters = {'Α':[12,1],'Β':[1,8],'Γ':[2,4],'Δ':[2,4],'Ε':[8,1],\n",
    "        'Ζ':[1,10],'Η':[7,1],'Θ':[1,10],'Ι':[8,1],'Κ':[4,2],\n",
    "        'Λ':[3,3],'Μ':[3,3],'Ν':[6,1],'Ξ':[1,10],'Ο':[9,1],\n",
    "        'Π':[4,2],'Ρ':[5,2],'Σ':[7,1],'Τ':[8,1],'Υ':[4,2],\n",
    "        'Φ':[1,8],'Χ':[1,8],'Ψ':[1,10],'Ω':[3,3] }\n",
    "\n",
    "keys = ['Α','Β','Γ','Δ','Ε','Ζ','Η','Θ','Ι','Κ','Λ','Μ','Ν','Ξ','Ο','Π','Ρ','Σ','Τ','Υ','Φ','Χ','Ψ','Ω']  \n",
    "\n",
    "word_dictionary = {}\n",
    "with open('greek7.txt','r',encoding = 'utf-8') as words_file:\n",
    "    for line in words_file:\n",
    "        word = line.strip('\\n')\n",
    "        word_score = 0\n",
    "        for letter in word:\n",
    "            word_score += letters[letter][1]       \n",
    "        word_dictionary[word] = [len(word),word_score] #Μήκος και σκορ λέξης\n",
    "      \n",
    "    \n",
    "word = input('Word: ')\n",
    "found = word_dictionary.get(word,'Doesnt exist')\n",
    "print(word_dictionary[word][1])"
   ]
  },
  {
   "cell_type": "code",
   "execution_count": null,
   "id": "9d637e62",
   "metadata": {},
   "outputs": [],
   "source": []
  },
  {
   "cell_type": "code",
   "execution_count": null,
   "id": "c59061e9",
   "metadata": {
    "scrolled": false
   },
   "outputs": [],
   "source": [
    "\n",
    "#import json \n",
    "#with open('word_dictionary.json','w') as outfile:\n",
    "   # json.dump(word_dictionary,outfile)\n",
    "    \n",
    "#with open('word_dictionary.json','r') as infile:\n",
    "    #new_dict = json.load(infile)\n",
    "    "
   ]
  },
  {
   "cell_type": "code",
   "execution_count": null,
   "id": "87790ef5",
   "metadata": {},
   "outputs": [],
   "source": [
    "\n"
   ]
  },
  {
   "cell_type": "code",
   "execution_count": null,
   "id": "edd883f4",
   "metadata": {},
   "outputs": [],
   "source": []
  },
  {
   "cell_type": "code",
   "execution_count": null,
   "id": "b6d3d1cb",
   "metadata": {},
   "outputs": [],
   "source": []
  },
  {
   "cell_type": "code",
   "execution_count": null,
   "id": "77f1883f",
   "metadata": {},
   "outputs": [],
   "source": [
    " "
   ]
  },
  {
   "cell_type": "code",
   "execution_count": null,
   "id": "1463c8f4",
   "metadata": {},
   "outputs": [],
   "source": []
  },
  {
   "cell_type": "code",
   "execution_count": null,
   "id": "cff47649",
   "metadata": {},
   "outputs": [],
   "source": []
  },
  {
   "cell_type": "markdown",
   "id": "04649cca",
   "metadata": {},
   "source": [
    "### "
   ]
  }
 ],
 "metadata": {
  "kernelspec": {
   "display_name": "Python 3 (ipykernel)",
   "language": "python",
   "name": "python3"
  },
  "language_info": {
   "codemirror_mode": {
    "name": "ipython",
    "version": 3
   },
   "file_extension": ".py",
   "mimetype": "text/x-python",
   "name": "python",
   "nbconvert_exporter": "python",
   "pygments_lexer": "ipython3",
   "version": "3.9.7"
  }
 },
 "nbformat": 4,
 "nbformat_minor": 5
}
