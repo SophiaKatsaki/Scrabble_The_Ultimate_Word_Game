{
 "cells": [
  {
   "cell_type": "code",
   "execution_count": 7,
   "id": "4ece2cd9",
   "metadata": {},
   "outputs": [
    {
     "name": "stdout",
     "output_type": "stream",
     "text": [
      "Help on function guidelines in module __main__:\n",
      "\n",
      "guidelines()\n",
      "    Τεκμηρίωση: \n",
      "    1. Στον κώδικα υπάρχουν οι εξής κλάσεις:\n",
      "       α) SakClass: Αναπαριστά το σακουλάκι που περιέχει τα γράμματα του παιχνιδιού. \n",
      "       β) Player: Αντιπροσωπεύει τον παίκτη, είτε είναι ο χρήστης, είτε είναι ο ηλεκτρονικός υπολογιστής\n",
      "       γ) Human\n",
      "       δ) Computer\n",
      "    2. Η κληρονομικότητα:\n",
      "\n"
     ]
    }
   ],
   "source": [
    "## Κύριο πρόγραμμα\n",
    "import classes as cl\n",
    "\n",
    "def guidelines():\n",
    "    '''Τεκμηρίωση: \n",
    "    1. Στον κώδικα υπάρχουν οι εξής κλάσεις:\n",
    "       α) SakClass: Αναπαριστά το σακουλάκι που περιέχει τα γράμματα του παιχνιδιού. \n",
    "       β) Player: Αντιπροσωπεύει τον παίκτη, είτε είναι ο χρήστης, είτε είναι ο ηλεκτρονικός υπολογιστής\n",
    "       γ) Human\n",
    "       δ) Computer\n",
    "    2. Η κληρονομικότητα: '''\n",
    "   \n",
    "\n",
    "#new_game = cl.Game()\n",
    "\n",
    "#print(help(guidelines))    \n",
    "help(guidelines)"
   ]
  },
  {
   "cell_type": "code",
   "execution_count": 2,
   "id": "ef74b561",
   "metadata": {},
   "outputs": [
    {
     "data": {
      "text/plain": [
       "\"Class: <class 'classes.Computer'>, name:d, score:11, letters:['Δ', 'Σ', 'Ε', 'Π', 'Ε', 'Υ', 'Υ']\""
      ]
     },
     "execution_count": 2,
     "metadata": {},
     "output_type": "execute_result"
    }
   ],
   "source": [
    "new_game.sak.__repr__()\n",
    "new_game.human_player.__repr__()\n",
    "new_game.computer_player.__repr__()\n",
    "#new_game.__repr__()"
   ]
  },
  {
   "cell_type": "code",
   "execution_count": null,
   "id": "dca36a04",
   "metadata": {},
   "outputs": [],
   "source": []
  },
  {
   "cell_type": "code",
   "execution_count": null,
   "id": "2cd4ff27",
   "metadata": {},
   "outputs": [],
   "source": []
  },
  {
   "cell_type": "code",
   "execution_count": null,
   "id": "c93dc394",
   "metadata": {},
   "outputs": [],
   "source": []
  },
  {
   "cell_type": "markdown",
   "id": "8812b779",
   "metadata": {},
   "source": [
    "# "
   ]
  }
 ],
 "metadata": {
  "kernelspec": {
   "display_name": "Python 3 (ipykernel)",
   "language": "python",
   "name": "python3"
  },
  "language_info": {
   "codemirror_mode": {
    "name": "ipython",
    "version": 3
   },
   "file_extension": ".py",
   "mimetype": "text/x-python",
   "name": "python",
   "nbconvert_exporter": "python",
   "pygments_lexer": "ipython3",
   "version": "3.9.7"
  }
 },
 "nbformat": 4,
 "nbformat_minor": 5
}
